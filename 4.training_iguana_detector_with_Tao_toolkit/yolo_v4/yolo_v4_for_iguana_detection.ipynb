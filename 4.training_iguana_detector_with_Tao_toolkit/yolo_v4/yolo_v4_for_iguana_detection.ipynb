{
 "cells": [
  {
   "cell_type": "code",
   "execution_count": 6,
   "id": "947069ec-aa0e-4b9e-bf23-310200738f9a",
   "metadata": {},
   "outputs": [],
   "source": [
    "import matplotlib.pyplot as plt\n",
    "import glob\n",
    "import os"
   ]
  },
  {
   "cell_type": "code",
   "execution_count": 31,
   "id": "17e0d393-0ce0-458d-89fc-4f0e274525b0",
   "metadata": {},
   "outputs": [],
   "source": [
    "root = r'./tao-experiments/data/training'"
   ]
  },
  {
   "cell_type": "code",
   "execution_count": 39,
   "id": "f34f14cb-06d6-4c7a-a7e6-909a7508f75d",
   "metadata": {},
   "outputs": [],
   "source": [
    "for im in glob.glob(os.path.join(root, 'image_2') + '/*.jpg'):\n",
    "    im_arr = plt.imread(im)\n",
    "    plt.imsave((os.path.join(root, 'image_2_png/')) + os.path.split(im)[-1].replace('jpg', 'png'), im_arr)"
   ]
  },
  {
   "cell_type": "code",
   "execution_count": 41,
   "id": "09d34c74-a693-4d63-820c-d61deff0d7b9",
   "metadata": {},
   "outputs": [],
   "source": [
    "root = r'./tao-experiments/data/testing'\n",
    "\n",
    "for im in glob.glob(os.path.join(root, 'image_2') + '/*.jpg'):\n",
    "    im_arr = plt.imread(im)\n",
    "    plt.imsave((os.path.join(root, 'image_2_png/')) + os.path.split(im)[-1].replace('jpg', 'png'), im_arr)"
   ]
  },
  {
   "cell_type": "code",
   "execution_count": 42,
   "id": "c128121b-6187-4977-9584-28b7e9c669a6",
   "metadata": {},
   "outputs": [],
   "source": [
    "root = r'./tao-experiments/data/val'\n",
    "\n",
    "for im in glob.glob(os.path.join(root, 'image') + '/*.jpg'):\n",
    "    im_arr = plt.imread(im)\n",
    "    plt.imsave((os.path.join(root, 'image_png/')) + os.path.split(im)[-1].replace('jpg', 'png'), im_arr)"
   ]
  },
  {
   "cell_type": "code",
   "execution_count": null,
   "id": "163f1e32-8b08-40ea-a42a-8d6af7e1d1c5",
   "metadata": {},
   "outputs": [],
   "source": []
  }
 ],
 "metadata": {
  "kernelspec": {
   "display_name": "Python 3",
   "language": "python",
   "name": "python3"
  },
  "language_info": {
   "codemirror_mode": {
    "name": "ipython",
    "version": 3
   },
   "file_extension": ".py",
   "mimetype": "text/x-python",
   "name": "python",
   "nbconvert_exporter": "python",
   "pygments_lexer": "ipython3",
   "version": "3.6.9"
  }
 },
 "nbformat": 4,
 "nbformat_minor": 5
}
